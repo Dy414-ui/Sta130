{
 "cells": [
  {
   "cell_type": "markdown",
   "id": "7040db9b",
   "metadata": {},
   "source": [
    "Indivisual proposal -- Dylan Shang"
   ]
  },
  {
   "cell_type": "markdown",
   "id": "bc567ef2",
   "metadata": {},
   "source": [
    "1. First analysis\n",
    "\n",
    "Research question: how much less lonely will one feel as they are having more than 4 connection social days with friends a week compare to others?\n",
    "\n",
    "\n",
    "\n",
    "The varibale s I'm tring to explore is 'LONELY_ucla_loneliness_scale_score' and 'CONNECTION_social_days_friends_p7d'\n",
    "CONNECTION_social_days_friends_p7d is a discrete numerical data which represent the days a person has social days with his friends range from 0-7, this will help the question we need it to seperate groups.integer\n",
    "\n",
    "LONELY_ucla_loneliness_scale_score is a ordinal categorical data representing how strong a person feel loneliness\n",
    "range 0-10, it helps us to get the final answer. it is the ruller to mesure 'how much less lonely'.integer\n",
    "\n",
    "assumption: there are meaningful relationship between these two variables, people who have more than 4 social days with friend is having less lonely score than others\n",
    "The sample data is reliable\n",
    "assume some small unremovable error can be ignore\n",
    "\n",
    "I would first clean my data by removing observations that has NA in the columns I need, by removing missing data, I'm able to collect a meaningful, and clearer version of my data which will improve the readability and is easier to compute with. Only removing missing observations that has missing data in the above to columns because we only need these to columns, it can keep our data as much as possible.\n",
    "Then I will ensure consistency of my data by checking all the data types are correct, check the range of data as they are represent by numbers. \n",
    "\n",
    "Before starting, I will also seperate my data into two groups, one with more than 4 days social days and one for the rest. Then i will define two new variable to hold on to my two groups of data and cut them only having one columns LONELY_ucla_loneliness_scale_score because I don't need all the other columns and keeping them will only lower my data clarity. \n",
    "\n",
    "Now I have two sample data.\n",
    "I'm going to use CI to produce a interval estimation for my true value for the population. \n",
    "First using bootstraping method to generate 10000 bootstrap samples for both the samples with the same size of my original sample with replacement using one for loop, in each time the loop runs, for every new sample I create for two data, I subtract the mean of the second(more than 4 days) from the mean of the first data and store these 10000 result. then by taking the 0.025 and 0.975 quantile, I can get a 95% confidence interval.\n",
    "\n",
    "I can now say I have 95% of confidence that the true value will fall in my interval. I have 95% of confidence to say that the value of how much less lonely scores people who have more than 4 social days than others will fall into the interval. This answer the research question.\n",
    "\n",
    "Expected result:\n",
    "The CI result i'm expecting should be a possitive, small interval like 3-5. If my 95% confidence CI is indeed 3-5, this suggest that I have 95% of confidence to say that the true value will fall into the range of 3-5, which is by average, how much less lonely score a person with more than 4 social days a week with friends have comparing to others.\n",
    "This will relate to the objectives of course project as it focus on how the interaction of community, in this case friends, has impact on one's life experience. loneliness can be very serious somtimes. It can caused a student to spend most of their time struggles, suffuring by mental illness. By studying how social days impact lonelyness, we can raise up the problem that maybe we should spend more time on social instead of studying. Parents also should pay attention to children's interpersonal relationships.\n"
   ]
  },
  {
   "cell_type": "markdown",
   "id": "f16fcd75",
   "metadata": {},
   "source": [
    "2. Second analysis\n",
    "\n",
    "Research question: does the time we spend with family change our subjective happiness?(spending more than 3 days)\n",
    "\n",
    "Variables: 'CONNECTION_social_time_family_p7d' and 'WELLNESS_subjective_happiness_scale_happy'\n",
    "\n",
    "WELLNESS_subjective_happiness_scale_happy is a ordinal categorical data with represent the level of happiness a person subjectively have. range 0-10, integer, it helps for mesuring answer. it is the ruler for happiness.\n",
    "\n",
    "CONNECTION_social_time_family_p7d is a discrete numerical data with represent how many days a person spend with their family a week. 0-7, integer, it help grouping.\n",
    "\n",
    "assumption:\n",
    "The sample data is reliable\n",
    "assume some small unremovable error can be ignore\n",
    "\n",
    "I would first clean my data by removing missing data, removing the observations that have missing values in the above two columns, then I will seperating the data into two groups, one with all obervations who have spend more than 3 days with their family and the other contain the rest. Cut them to only have the scale_happy column. This is to make out data eaier to compute with, I don't need any other columns after I group the people.\n",
    "\n",
    "Now, I have two sample data.\n",
    "I will use a hypothesis test on this question. First set up H0 and H1, we write the thing we want to prove on H1 which is the time spend with family indeed change out happiness. We can write H1 as mean of second group subtract mean of the first group does not equal to zero. This mean there are changes that has been made through spending time with family. H0 will be mean of second group - mean of first groud = 0.\n",
    "\n",
    "Now we can start bootstraping. the H1 we made suggest a two tail test for our p-value. \n",
    "I will first initialize a original difference which is mean of original sample 1 - mean original sample 2. \n",
    "Then using bootstraping method to generate 10000 bootstrap samples for both the samples with the same size of my original sample with replacement using one for loop, in each time the loop runs, for every new sample I create for two data, I subtract the mean of the second(more than 3 days) from the mean of the first data and store these 10000 result. \n",
    "\n",
    "Then I can sum up how many times of occurrence of my bootstrap sample mean is as or more extreme than the original difference using absolute value. then count/10000\n",
    "\n",
    "if p value is smaller than 0.05, I have enough evidence to reject H0, has no impact, FTR H0 otherwise, there is indeed no impact. This answer the research question.\n",
    "\n",
    "expected result:\n",
    "my expect p value should be below 0.01, which suggest we have strong evidence to reject H0, conclude H1, we have a significant result. as long as my p value is smaller than 0.05, I have enough evidence to reject H0. In this senerio, we reject that spending time with family will not impact our subjective happiness, conclude that it will.\n",
    "This will relate to the project objective as it raise up the problem of for most of us, we are not living with our parents, even not inside of a city or province even country. However, we spend most of our time on our stuff and barely talk to parents. This could raise up the problem that we should care and talk more with our parent, spend more time with them while they are the one who love you the most."
   ]
  },
  {
   "cell_type": "markdown",
   "id": "7c3b6a78",
   "metadata": {},
   "source": [
    "3. Third analysis\n",
    "\n",
    "Research question: does interacting with neighbours impact your emotion?\n",
    "\n",
    "Variables: 'CONNECTION_social_num_neighbours_p7d' and 'WELLNESS_phq_feeling_down'\n",
    "\n",
    "WELLNESS_phq_feeling_down is a nominal categorical variable which represent whether or not one is feeling bad and the frequency. 0-10, integer, it help measuring the answer.\n",
    "\n",
    "CONNECTION_social_num_neighbours_p7d is a discrete numerical data which represent how many times a person has social with their neighbours in a week. 0-7, integer, it helps grouping.\n",
    "\n",
    "assumption: \n",
    "The sample data is reliable\n",
    "assume some small unremovable error can be ign\n",
    "\n",
    "First clean the data, remove any observations with missing value in the above two variables, then I will code and change the WELLNESS_phq_feeling_down column into a binary categorical data by coding all 'not at all' to 0, and others to 1. This will allow me to seperate people who has interact with neighbours and those to does not easily. Now seperage the original data into two groups, one with 1 for their feeling_down column, one with 0.\n",
    "\n",
    "Now I have two sample data, one of people that does not interact with neighbours, and one that does. \n",
    "I will cut these two data to only have one column, the CONNECTION_social_num_neighbours_p7d as we only need this after grouping.\n",
    "\n",
    "I will use a hypothesis test using CI for this.\n",
    "First set up H0 and H1. H1 will be things I want to prove, which is mean sample1(with 0) - mean sample2 does not equal to 0, it has impect, H0 will be mean sample1 - mean sample2 = 0\n",
    "\n",
    "using bootstraping method to generate 10000 bootstrap samples for both the samples with the same size of my original sample with replacement using one for loop, in each time the loop runs, for every new sample I create for two data, I subtract the mean of the second from the mean of the first data and store these 10000 result. then by taking the 0.025 and 0.975 quantile, I can get a 95% confidence interval.\n",
    "\n",
    "if 0 falls into the CI, fail to reject H0, we do not have enough evidence. Has no impect on emotion. If 0 does not fall into CI, i have enough evidence to reject H0, conclude H1. I have 95% confidence to reject H0. There are impact on emotion. This answer the research question.\n",
    "\n",
    "ecpected result:\n",
    "I expect the result would be a possitive number interval, does not include zero, like 2-3.\n",
    "This suggest that I have enough evidence to reject H0, conclude H1. I have 95% of confidence to reject H0. In this case, I have 95% of evidence to say that interacting with neighbours does impact your emotion, most likely to be positivly.\n",
    "This link to the objective of course project as this raise the problem of when we feel down we should not just stay in the comfort zone, be in a small friend group, sometimes getting to know new people will be better.\n"
   ]
  }
 ],
 "metadata": {
  "kernelspec": {
   "display_name": "Python 3 (ipykernel)",
   "language": "python",
   "name": "python3"
  },
  "language_info": {
   "codemirror_mode": {
    "name": "ipython",
    "version": 3
   },
   "file_extension": ".py",
   "mimetype": "text/x-python",
   "name": "python",
   "nbconvert_exporter": "python",
   "pygments_lexer": "ipython3",
   "version": "3.11.6"
  }
 },
 "nbformat": 4,
 "nbformat_minor": 5
}
